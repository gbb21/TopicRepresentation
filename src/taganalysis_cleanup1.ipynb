{
 "cells": [
  {
   "cell_type": "code",
   "execution_count": 13,
   "metadata": {},
   "outputs": [],
   "source": [
    "import itertools as it\n",
    "import collections as cc\n",
    "import pandas as pd\n",
    "import spacy as sp\n",
    "import torch as pt"
   ]
  },
  {
   "cell_type": "code",
   "execution_count": 15,
   "metadata": {},
   "outputs": [
    {
     "data": {
      "text/html": [
       "<div>\n",
       "<style scoped>\n",
       "    .dataframe tbody tr th:only-of-type {\n",
       "        vertical-align: middle;\n",
       "    }\n",
       "\n",
       "    .dataframe tbody tr th {\n",
       "        vertical-align: top;\n",
       "    }\n",
       "\n",
       "    .dataframe thead th {\n",
       "        text-align: right;\n",
       "    }\n",
       "</style>\n",
       "<table border=\"1\" class=\"dataframe\">\n",
       "  <thead>\n",
       "    <tr style=\"text-align: right;\">\n",
       "      <th></th>\n",
       "      <th>Id</th>\n",
       "      <th>Tag</th>\n",
       "    </tr>\n",
       "  </thead>\n",
       "  <tbody>\n",
       "    <tr>\n",
       "      <th>0</th>\n",
       "      <td>80</td>\n",
       "      <td>flex</td>\n",
       "    </tr>\n",
       "    <tr>\n",
       "      <th>1</th>\n",
       "      <td>80</td>\n",
       "      <td>actionscript-3</td>\n",
       "    </tr>\n",
       "    <tr>\n",
       "      <th>2</th>\n",
       "      <td>80</td>\n",
       "      <td>air</td>\n",
       "    </tr>\n",
       "    <tr>\n",
       "      <th>3</th>\n",
       "      <td>90</td>\n",
       "      <td>svn</td>\n",
       "    </tr>\n",
       "    <tr>\n",
       "      <th>4</th>\n",
       "      <td>90</td>\n",
       "      <td>tortoisesvn</td>\n",
       "    </tr>\n",
       "    <tr>\n",
       "      <th>5</th>\n",
       "      <td>90</td>\n",
       "      <td>branch</td>\n",
       "    </tr>\n",
       "    <tr>\n",
       "      <th>6</th>\n",
       "      <td>90</td>\n",
       "      <td>branching-and-merging</td>\n",
       "    </tr>\n",
       "    <tr>\n",
       "      <th>7</th>\n",
       "      <td>120</td>\n",
       "      <td>sql</td>\n",
       "    </tr>\n",
       "    <tr>\n",
       "      <th>8</th>\n",
       "      <td>120</td>\n",
       "      <td>asp.net</td>\n",
       "    </tr>\n",
       "    <tr>\n",
       "      <th>9</th>\n",
       "      <td>120</td>\n",
       "      <td>sitemap</td>\n",
       "    </tr>\n",
       "  </tbody>\n",
       "</table>\n",
       "</div>"
      ],
      "text/plain": [
       "    Id                    Tag\n",
       "0   80                   flex\n",
       "1   80         actionscript-3\n",
       "2   80                    air\n",
       "3   90                    svn\n",
       "4   90            tortoisesvn\n",
       "5   90                 branch\n",
       "6   90  branching-and-merging\n",
       "7  120                    sql\n",
       "8  120                asp.net\n",
       "9  120                sitemap"
      ]
     },
     "execution_count": 15,
     "metadata": {},
     "output_type": "execute_result"
    }
   ],
   "source": [
    "tags_ = pd.read_csv(\"./data/tags.csv\")\n",
    "tags_.head(10)"
   ]
  },
  {
   "cell_type": "code",
   "execution_count": 20,
   "metadata": {},
   "outputs": [],
   "source": [
    "tagCounter_ = cc.Counter(tags_.Tag)"
   ]
  },
  {
   "cell_type": "code",
   "execution_count": 22,
   "metadata": {},
   "outputs": [],
   "source": [
    "tags_ = tags_[tags_.Tag.map(lambda x : tagCounter_[x]) > 500]"
   ]
  },
  {
   "cell_type": "code",
   "execution_count": 28,
   "metadata": {},
   "outputs": [],
   "source": [
    "tags_ = tags_.set_index(\"Id\")"
   ]
  },
  {
   "cell_type": "code",
   "execution_count": 45,
   "metadata": {},
   "outputs": [],
   "source": [
    "questionsChunks_ = pd.read_csv(\"./data/questions4.csv\", chunksize = 1000)\n"
   ]
  },
  {
   "cell_type": "code",
   "execution_count": 56,
   "metadata": {},
   "outputs": [],
   "source": [
    "answers_ = pd.read_csv(\"./data/answer3.csv\")"
   ]
  },
  {
   "cell_type": "code",
   "execution_count": 59,
   "metadata": {},
   "outputs": [],
   "source": [
    "answers_ = answers_[[\"ParentId\", \"CleanBody\"]]"
   ]
  },
  {
   "cell_type": "code",
   "execution_count": 67,
   "metadata": {},
   "outputs": [
    {
     "data": {
      "text/plain": [
       "1212326"
      ]
     },
     "execution_count": 67,
     "metadata": {},
     "output_type": "execute_result"
    }
   ],
   "source": [
    "len(tags_.index)"
   ]
  },
  {
   "cell_type": "code",
   "execution_count": 69,
   "metadata": {},
   "outputs": [],
   "source": [
    "answers_ = answers_.set_index(\"ParentId\").filter(tags_.index, axis = 0)"
   ]
  },
  {
   "cell_type": "code",
   "execution_count": 73,
   "metadata": {},
   "outputs": [],
   "source": [
    "answers_.rename(columns = {\"ParentId\": \"Id\", \"CleanBody\": \"AnswerBody\"}, inplace = True)"
   ]
  },
  {
   "cell_type": "code",
   "execution_count": 54,
   "metadata": {},
   "outputs": [],
   "source": [
    "tags_ = tags_.groupby(\"Id\").aggregate(list)"
   ]
  },
  {
   "cell_type": "code",
   "execution_count": 79,
   "metadata": {
    "scrolled": true
   },
   "outputs": [
    {
     "data": {
      "text/html": [
       "<div>\n",
       "<style scoped>\n",
       "    .dataframe tbody tr th:only-of-type {\n",
       "        vertical-align: middle;\n",
       "    }\n",
       "\n",
       "    .dataframe tbody tr th {\n",
       "        vertical-align: top;\n",
       "    }\n",
       "\n",
       "    .dataframe thead th {\n",
       "        text-align: right;\n",
       "    }\n",
       "</style>\n",
       "<table border=\"1\" class=\"dataframe\">\n",
       "  <thead>\n",
       "    <tr style=\"text-align: right;\">\n",
       "      <th></th>\n",
       "      <th>Title</th>\n",
       "      <th>CleanBody</th>\n",
       "      <th>Tag</th>\n",
       "      <th>AnswerBody</th>\n",
       "    </tr>\n",
       "    <tr>\n",
       "      <th>Id</th>\n",
       "      <th></th>\n",
       "      <th></th>\n",
       "      <th></th>\n",
       "      <th></th>\n",
       "    </tr>\n",
       "  </thead>\n",
       "  <tbody>\n",
       "    <tr>\n",
       "      <th>293300</th>\n",
       "      <td>\"Unknown column 'user_id' error in django view</td>\n",
       "      <td>I'm having an error where I am not sure what c...</td>\n",
       "      <td>[python, django, django-models, model, view]</td>\n",
       "      <td>The field is the FK reference from to . It loo...</td>\n",
       "    </tr>\n",
       "    <tr>\n",
       "      <th>293380</th>\n",
       "      <td>Why Isn't My C Code Being Compiled To An EXE</td>\n",
       "      <td>I'm just starting out writing trying to write ...</td>\n",
       "      <td>[c, visual-studio]</td>\n",
       "      <td>By default when you're creating a new C++ proj...</td>\n",
       "    </tr>\n",
       "    <tr>\n",
       "      <th>293500</th>\n",
       "      <td>How to deploy an RubyGem-based Server</td>\n",
       "      <td>We have built a custom socket server in ruby a...</td>\n",
       "      <td>[ruby, deployment, rubygems]</td>\n",
       "      <td>You can install gems from the local filesystem...</td>\n",
       "    </tr>\n",
       "    <tr>\n",
       "      <th>293570</th>\n",
       "      <td>Can I use CSS in directory listing of Firefox?</td>\n",
       "      <td>For example if I put \"C:\\docs\" in address bar ...</td>\n",
       "      <td>[firefox]</td>\n",
       "      <td>Firefox has a file userContent.css for each pr...</td>\n",
       "    </tr>\n",
       "    <tr>\n",
       "      <th>293590</th>\n",
       "      <td>Dynamically include .js files from Zend_Contro...</td>\n",
       "      <td>I came across the case where depending on the ...</td>\n",
       "      <td>[zend-framework]</td>\n",
       "      <td>See the view helper headScript(). I'm just wri...</td>\n",
       "    </tr>\n",
       "    <tr>\n",
       "      <th>...</th>\n",
       "      <td>...</td>\n",
       "      <td>...</td>\n",
       "      <td>...</td>\n",
       "      <td>...</td>\n",
       "    </tr>\n",
       "    <tr>\n",
       "      <th>354110</th>\n",
       "      <td>In Javascript, what is the difference between ...</td>\n",
       "      <td>Being fairly new to Javascript, I'm unable to ...</td>\n",
       "      <td>[javascript, string]</td>\n",
       "      <td>I think the main difference is that search acc...</td>\n",
       "    </tr>\n",
       "    <tr>\n",
       "      <th>354370</th>\n",
       "      <td>Adding a SOAP header to a SOAPpy request</td>\n",
       "      <td>Does anyone know how to do this? I need to add...</td>\n",
       "      <td>[python]</td>\n",
       "      <td>As the question is phrased, it's hard to guess...</td>\n",
       "    </tr>\n",
       "    <tr>\n",
       "      <th>354400</th>\n",
       "      <td>Transitions and setting up Layers/Scenes in co...</td>\n",
       "      <td>I am looking to setup a transition between two...</td>\n",
       "      <td>[objective-c, iphone, cocos2d-iphone]</td>\n",
       "      <td>For those who might care, here's what I ended ...</td>\n",
       "    </tr>\n",
       "    <tr>\n",
       "      <th>354490</th>\n",
       "      <td>Preventing automatic change of default-directory</td>\n",
       "      <td>As per the Emacs docs , every time you open a ...</td>\n",
       "      <td>[emacs]</td>\n",
       "      <td>Another variant is to bind default-directory t...</td>\n",
       "    </tr>\n",
       "    <tr>\n",
       "      <th>354610</th>\n",
       "      <td>Create a colored bubble/circle programmaticall...</td>\n",
       "      <td>Can anyone guide me in the correct way to buil...</td>\n",
       "      <td>[objective-c, cocoa]</td>\n",
       "      <td>You may use simple to create perfect circle wi...</td>\n",
       "    </tr>\n",
       "  </tbody>\n",
       "</table>\n",
       "<p>963 rows × 4 columns</p>\n",
       "</div>"
      ],
      "text/plain": [
       "                                                    Title  \\\n",
       "Id                                                          \n",
       "293300     \"Unknown column 'user_id' error in django view   \n",
       "293380       Why Isn't My C Code Being Compiled To An EXE   \n",
       "293500              How to deploy an RubyGem-based Server   \n",
       "293570     Can I use CSS in directory listing of Firefox?   \n",
       "293590  Dynamically include .js files from Zend_Contro...   \n",
       "...                                                   ...   \n",
       "354110  In Javascript, what is the difference between ...   \n",
       "354370           Adding a SOAP header to a SOAPpy request   \n",
       "354400  Transitions and setting up Layers/Scenes in co...   \n",
       "354490   Preventing automatic change of default-directory   \n",
       "354610  Create a colored bubble/circle programmaticall...   \n",
       "\n",
       "                                                CleanBody  \\\n",
       "Id                                                          \n",
       "293300  I'm having an error where I am not sure what c...   \n",
       "293380  I'm just starting out writing trying to write ...   \n",
       "293500  We have built a custom socket server in ruby a...   \n",
       "293570  For example if I put \"C:\\docs\" in address bar ...   \n",
       "293590  I came across the case where depending on the ...   \n",
       "...                                                   ...   \n",
       "354110  Being fairly new to Javascript, I'm unable to ...   \n",
       "354370  Does anyone know how to do this? I need to add...   \n",
       "354400  I am looking to setup a transition between two...   \n",
       "354490  As per the Emacs docs , every time you open a ...   \n",
       "354610  Can anyone guide me in the correct way to buil...   \n",
       "\n",
       "                                                 Tag  \\\n",
       "Id                                                     \n",
       "293300  [python, django, django-models, model, view]   \n",
       "293380                            [c, visual-studio]   \n",
       "293500                  [ruby, deployment, rubygems]   \n",
       "293570                                     [firefox]   \n",
       "293590                              [zend-framework]   \n",
       "...                                              ...   \n",
       "354110                          [javascript, string]   \n",
       "354370                                      [python]   \n",
       "354400         [objective-c, iphone, cocos2d-iphone]   \n",
       "354490                                       [emacs]   \n",
       "354610                          [objective-c, cocoa]   \n",
       "\n",
       "                                               AnswerBody  \n",
       "Id                                                         \n",
       "293300  The field is the FK reference from to . It loo...  \n",
       "293380  By default when you're creating a new C++ proj...  \n",
       "293500  You can install gems from the local filesystem...  \n",
       "293570  Firefox has a file userContent.css for each pr...  \n",
       "293590  See the view helper headScript(). I'm just wri...  \n",
       "...                                                   ...  \n",
       "354110  I think the main difference is that search acc...  \n",
       "354370  As the question is phrased, it's hard to guess...  \n",
       "354400  For those who might care, here's what I ended ...  \n",
       "354490  Another variant is to bind default-directory t...  \n",
       "354610  You may use simple to create perfect circle wi...  \n",
       "\n",
       "[963 rows x 4 columns]"
      ]
     },
     "execution_count": 79,
     "metadata": {},
     "output_type": "execute_result"
    }
   ],
   "source": [
    "questionsChunks_.get_chunk().set_index(\"Id\").join(tags_, \"Id\", how = \"inner\").join(answers_, \"Id\", how = \"left\")"
   ]
  },
  {
   "cell_type": "code",
   "execution_count": 87,
   "metadata": {},
   "outputs": [],
   "source": [
    "for i, chunk_ in enumerate(pd.read_csv(\"./data/questions4.csv\", chunksize = 50000)):\n",
    "    chunk_ = chunk_.set_index(\"Id\").join(tags_, \"Id\", how = \"inner\").join(answers_, \"Id\", how = \"left\")\n",
    "    chunk_.to_csv(\"./data/tagedquestions_{0:03d}.csv\".format(i))\n",
    "    "
   ]
  }
 ],
 "metadata": {
  "kernelspec": {
   "display_name": "Python 3",
   "language": "python",
   "name": "python3"
  },
  "language_info": {
   "codemirror_mode": {
    "name": "ipython",
    "version": 3
   },
   "file_extension": ".py",
   "mimetype": "text/x-python",
   "name": "python",
   "nbconvert_exporter": "python",
   "pygments_lexer": "ipython3",
   "version": "3.7.9"
  }
 },
 "nbformat": 4,
 "nbformat_minor": 4
}
